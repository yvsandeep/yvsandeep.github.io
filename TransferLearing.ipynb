{
  "nbformat": 4,
  "nbformat_minor": 0,
  "metadata": {
    "colab": {
      "provenance": [],
      "machine_shape": "hm",
      "gpuType": "T4"
    },
    "kernelspec": {
      "name": "python3",
      "display_name": "Python 3"
    },
    "language_info": {
      "name": "python"
    },
    "accelerator": "GPU"
  },
  "cells": [
    {
      "cell_type": "markdown",
      "source": [
        "**Transfer Learning on VGG19, ResNet50, and InceptionV3**\n",
        "\n",
        "1. **Load CIFAR10 dataset**\n",
        "     - Download from Library\n",
        "\n",
        "2. **Import Image Classification Pre-trained Models**\n",
        "   - Import Models and Set Device to CUDA\n",
        "   - Helper Function\n",
        "   - Define Train and Evaluation\n",
        "\n",
        "3. **Training Models**\n",
        "   - Train VGG19\n",
        "   - Train ResNet50V2\n",
        "   - Train InceptionV3\n",
        "\n",
        "4. **Experiment with Fine-Tuned Pre-trained Models**\n",
        "   - Prerequisite: Load CIFAR10 Dataset\n",
        "   - Test Classification Performance\n",
        "     - Report Accuracy\n",
        "\n",
        "5. **Download Fine-Tuned Models**\n",
        "   - Define Models to Load Saved Weights\n",
        "   - Load Weight: Test Accuracy & F1 Score\n",
        "     - VGG19\n",
        "     - ResNet50V2\n",
        "     - InceptionV3\n",
        "     - Combined Test\n",
        "\n",
        "6. **Layers and Parameters**\n",
        "\n"
      ],
      "metadata": {
        "id": "ovbFEEboIAqe"
      }
    },
    {
      "cell_type": "markdown",
      "source": [
        "## Load CIFAR10 dataset.\n"
      ],
      "metadata": {
        "id": "C4Hq6ARX4Rhz"
      }
    },
    {
      "cell_type": "markdown",
      "source": [
        "Download from Library"
      ],
      "metadata": {
        "id": "tWn7f1YB3Yvp"
      }
    },
    {
      "cell_type": "code",
      "source": [
        "import torch\n",
        "from torchvision import datasets, transforms\n",
        "\n",
        "# Define transformations for the CIFAR10 images to match the pre-trained model input requirements\n",
        "transform_vgg19_resnet50v2 = transforms.Compose([\n",
        "    transforms.Resize(224),  # Resizing to 224x224 for VGG19 and ResNet50V2\n",
        "    transforms.RandomHorizontalFlip(),  # Data augmentation\n",
        "    transforms.ToTensor(),\n",
        "    transforms.Normalize(mean=[0.485, 0.456, 0.406], std=[0.229, 0.224, 0.225]),\n",
        "])\n",
        "\n",
        "transform_inceptionv3 = transforms.Compose([\n",
        "    transforms.Resize(299),  # Resizing to 299x299 for inceptionv3\n",
        "    transforms.RandomHorizontalFlip(),  # Data augmentation\n",
        "    transforms.ToTensor(),\n",
        "    transforms.Normalize(mean=[0.485, 0.456, 0.406], std=[0.229, 0.224, 0.225]),\n",
        "])\n",
        "\n",
        "# Load CIFAR10 training and test datasets using torchvision datasets module with appropriate transforms\n",
        "trainset_vgg19_resnet50v2 = datasets.CIFAR10(root='./data', train=True, download=True, transform=transform_vgg19_resnet50v2)\n",
        "trainset_inceptionv3 = datasets.CIFAR10(root='./data', train=True, download=False, transform=transform_inceptionv3)\n",
        "\n",
        "testset_vgg19_resnet50v2 = datasets.CIFAR10(root='./data', train=False, download=False, transform=transform_vgg19_resnet50v2)\n",
        "testset_inceptionv3 = datasets.CIFAR10(root='./data', train=False, download=False, transform=transform_inceptionv3)\n",
        "\n",
        "# We will use a DataLoader to handle batching\n",
        "trainloader_vgg19_resnet50v2 = torch.utils.data.DataLoader(trainset_vgg19_resnet50v2, batch_size=128, shuffle=True)\n",
        "trainloader_inceptionv3 = torch.utils.data.DataLoader(trainset_inceptionv3, batch_size=128, shuffle=True)\n",
        "\n",
        "testloader_vgg19_resnet50v2 = torch.utils.data.DataLoader(testset_vgg19_resnet50v2, batch_size=128, shuffle=False)\n",
        "testloader_inceptionv3 = torch.utils.data.DataLoader(testset_inceptionv3, batch_size=128, shuffle=False)\n",
        "\n",
        "# Check if the transformation was applied correctly by getting the shape of the first batch\n",
        "first_batch_train_vgg19_resnet50v2 = next(iter(trainloader_vgg19_resnet50v2))[0].shape\n",
        "first_batch_train_inceptionv3 = next(iter(trainloader_inceptionv3))[0].shape\n",
        "first_batch_test_vgg19_resnet50v2 = next(iter(testloader_vgg19_resnet50v2))[0].shape\n",
        "first_batch_test_inceptionv3 = next(iter(testloader_inceptionv3))[0].shape\n",
        "\n",
        "print(\"Train batch shape VGG19/ResNet50V2:\", first_batch_train_vgg19_resnet50v2)\n",
        "print(\"Train batch shape inceptionv3:\", first_batch_train_inceptionv3)\n",
        "print(\"Test batch shape VGG19/ResNet50V2:\", first_batch_test_vgg19_resnet50v2)\n",
        "print(\"Test batch shape inceptionv3:\", first_batch_test_inceptionv3)\n"
      ],
      "metadata": {
        "colab": {
          "base_uri": "https://localhost:8080/"
        },
        "id": "Q7AI9Lhn1gi1",
        "outputId": "312c351e-13d6-4129-db5b-331d0adee7d4"
      },
      "execution_count": null,
      "outputs": [
        {
          "output_type": "stream",
          "name": "stdout",
          "text": [
            "Files already downloaded and verified\n",
            "Train batch shape VGG19/ResNet50V2: torch.Size([128, 3, 224, 224])\n",
            "Train batch shape inceptionv4: torch.Size([128, 3, 299, 299])\n",
            "Test batch shape VGG19/ResNet50V2: torch.Size([128, 3, 224, 224])\n",
            "Test batch shape inceptionv4: torch.Size([128, 3, 299, 299])\n"
          ]
        }
      ]
    },
    {
      "cell_type": "markdown",
      "source": [
        "#Fine Tuning image classification models\n",
        "\n",
        "**VGG-19**\n",
        "\n",
        "**ResNet50V2**\n",
        "\n",
        "**inceptionv3**\n"
      ],
      "metadata": {
        "id": "gXEFmEj74LLg"
      }
    },
    {
      "cell_type": "markdown",
      "source": [
        "##Small and large version of existing image classification models, i.e.\n",
        "pre-trained models, including VGG-19, ResNet50V2, and inceptionv3.\n",
        "Then, run them on the CIFAR10.\n"
      ],
      "metadata": {
        "id": "F19awfrq4Wo2"
      }
    },
    {
      "cell_type": "markdown",
      "source": [
        "###Import Models and Set device to CUDA"
      ],
      "metadata": {
        "id": "oD6L-sthM428"
      }
    },
    {
      "cell_type": "code",
      "source": [
        "from torchvision import models\n",
        "import torch.nn as nn\n",
        "import torch.optim as optim\n",
        "\n",
        "#GPU\n",
        "device = torch.device(\"cuda\" if torch.cuda.is_available() else \"cpu\")\n",
        "\n",
        "# Load pre-trained models\n",
        "vgg19 = models.vgg19(pretrained=True)\n",
        "resnet50v2 = models.resnet50(pretrained=True)\n",
        "inceptionv3 = models.inception_v3(pretrained=True)\n",
        "inceptionv3.aux_logits = False  # Turn off the auxiliary output\n",
        "\n",
        "# Modify the classifiers for CIFAR-10 (10 classes)\n",
        "vgg19.classifier[6] = nn.Linear(vgg19.classifier[6].in_features, 10)\n",
        "resnet50v2.fc = nn.Linear(resnet50v2.fc.in_features, 10)\n",
        "inceptionv3.fc = nn.Linear(inceptionv3.fc.in_features, 10)"
      ],
      "metadata": {
        "id": "f9uARI1wwC_W",
        "colab": {
          "base_uri": "https://localhost:8080/"
        },
        "outputId": "9bcc0ae2-487c-4cfa-da1c-ebd8c51295fb"
      },
      "execution_count": null,
      "outputs": [
        {
          "output_type": "stream",
          "name": "stderr",
          "text": [
            "/usr/local/lib/python3.10/dist-packages/torchvision/models/_utils.py:208: UserWarning: The parameter 'pretrained' is deprecated since 0.13 and may be removed in the future, please use 'weights' instead.\n",
            "  warnings.warn(\n",
            "/usr/local/lib/python3.10/dist-packages/torchvision/models/_utils.py:223: UserWarning: Arguments other than a weight enum or `None` for 'weights' are deprecated since 0.13 and may be removed in the future. The current behavior is equivalent to passing `weights=VGG19_Weights.IMAGENET1K_V1`. You can also use `weights=VGG19_Weights.DEFAULT` to get the most up-to-date weights.\n",
            "  warnings.warn(msg)\n",
            "/usr/local/lib/python3.10/dist-packages/torchvision/models/_utils.py:223: UserWarning: Arguments other than a weight enum or `None` for 'weights' are deprecated since 0.13 and may be removed in the future. The current behavior is equivalent to passing `weights=ResNet50_Weights.IMAGENET1K_V1`. You can also use `weights=ResNet50_Weights.DEFAULT` to get the most up-to-date weights.\n",
            "  warnings.warn(msg)\n",
            "/usr/local/lib/python3.10/dist-packages/torchvision/models/_utils.py:223: UserWarning: Arguments other than a weight enum or `None` for 'weights' are deprecated since 0.13 and may be removed in the future. The current behavior is equivalent to passing `weights=Inception_V3_Weights.IMAGENET1K_V1`. You can also use `weights=Inception_V3_Weights.DEFAULT` to get the most up-to-date weights.\n",
            "  warnings.warn(msg)\n"
          ]
        }
      ]
    },
    {
      "cell_type": "markdown",
      "source": [
        "###Helper Function"
      ],
      "metadata": {
        "id": "NkIUSGLUNCRQ"
      }
    },
    {
      "cell_type": "code",
      "source": [
        "def print_model_parameters(model):\n",
        "    print(\"Model's named parameters:\")\n",
        "    for name, param in model.named_parameters():\n",
        "        print(f\"{name} - requires_grad: {param.requires_grad}, shape: {param.shape}\")\n",
        "\n",
        "def print_optimizer_parameters(optimizer):\n",
        "    print(\"\\nOptimizer's parameter groups:\")\n",
        "    for param_group in optimizer.param_groups:\n",
        "        for param in param_group['params']:\n",
        "            print(f\"Parameter group has learning rate of {param_group['lr']}, weight decay of {param_group['weight_decay']}\")\n",
        "            if param.requires_grad:\n",
        "                print(f\"  - This parameter group includes trainable parameters.\")\n",
        "            else:\n",
        "                print(f\"  - This parameter group includes non-trainable parameters.\")\n",
        "\n",
        "def print_optimizer_parameters_names(model, optimizer):\n",
        "    print(\"\\nOptimizer's parameter names:\")\n",
        "    # Create a set of the id's of the parameters in the optimizer\n",
        "    optim_params = {id(p) for pg in optimizer.param_groups for p in pg['params']}\n",
        "    # Match the model parameters with the optimizer parameters\n",
        "    for name, param in model.named_parameters():\n",
        "        if id(param) in optim_params:\n",
        "            print(f\"Parameter in optimizer: {name}\")\n"
      ],
      "metadata": {
        "id": "uB6P7YColl2C"
      },
      "execution_count": null,
      "outputs": []
    },
    {
      "cell_type": "markdown",
      "source": [
        "###Define Train and Evaluation"
      ],
      "metadata": {
        "id": "M7mNUdubNF59"
      }
    },
    {
      "cell_type": "code",
      "source": [
        "def train_model(model, train_loader, test_loader, criterion, num_epochs, unfreeze_layers, device='cpu'):\n",
        "\n",
        "    # Freeze all the layers first\n",
        "    for param in model.parameters():\n",
        "        param.requires_grad = False\n",
        "\n",
        "\n",
        "    if(model == vgg19):\n",
        "      # Only classifier parameters are optimized at first\n",
        "      optimizer = optim.SGD(model.classifier.parameters(), lr=0.001, momentum=0.9, weight_decay=1e-4)\n",
        "      # Then, unfreeze the classifier layers\n",
        "      for param in model.classifier.parameters():\n",
        "          param.requires_grad = True\n",
        "\n",
        "        # Define the layers to unfreeze\n",
        "      unfreeze_layers = [model.features[i] for i in range(len(model.features)) if not isinstance(model.features[i], nn.MaxPool2d)]\n",
        "\n",
        "    else:\n",
        "      optimizer = optim.SGD(model.fc.parameters(), lr=0.001, momentum=0.9, weight_decay=1e-4)\n",
        "      # Then, unfreeze the fc layers\n",
        "      for param in model.fc.parameters():\n",
        "          param.requires_grad = True\n",
        "      # Define the layers to unfreeze\n",
        "      if model == resnet50v2:\n",
        "        unfreeze_layers = [model.layer4, model.layer3, model.layer2, model.layer1, model.conv1, model.bn1][::-1]\n",
        "      else:\n",
        "        unfreeze_layers = [\n",
        "        model.Mixed_7c, model.Mixed_7b, model.Mixed_7a,\n",
        "        model.Mixed_6e, model.Mixed_6d, model.Mixed_6c,\n",
        "        model.Mixed_6b, model.Mixed_6a, model.Mixed_5d,\n",
        "        model.Mixed_5c, model.Mixed_5b, model.Conv2d_4a_3x3,\n",
        "        model.Conv2d_3b_1x1, model.Conv2d_2b_3x3, model.Conv2d_2a_3x3, model.Conv2d_1a_3x3\n",
        "        ][::-1]\n",
        "\n",
        "    # print_model_parameters(model)\n",
        "\n",
        "\n",
        "\n",
        "    # Scheduler to adjust the learning rate\n",
        "    scheduler = optim.lr_scheduler.ReduceLROnPlateau(optimizer, 'min')\n",
        "\n",
        "\n",
        "\n",
        "    for epoch in range(num_epochs):\n",
        "        model.train()  # Set the model to training mode\n",
        "        running_loss = 0.0\n",
        "        correct = 0\n",
        "        total = 0\n",
        "\n",
        "        for inputs, targets in train_loader:\n",
        "            inputs, targets = inputs.to(device), targets.to(device)\n",
        "            optimizer.zero_grad()  # Zero the parameter gradients\n",
        "            outputs = model(inputs)  # Forward pass\n",
        "            loss = criterion(outputs, targets)  # Compute the loss\n",
        "            loss.backward()  # Backward pass\n",
        "            optimizer.step()  # Optimize the model\n",
        "\n",
        "\n",
        "            running_loss += loss.item()\n",
        "            _, predicted = outputs.max(1)\n",
        "            total += targets.size(0)\n",
        "            correct += predicted.eq(targets).sum().item()\n",
        "\n",
        "        train_loss = running_loss / len(train_loader)\n",
        "        train_accuracy = 100. * correct / total\n",
        "        val_loss, val_accuracy = evaluate(model, test_loader, criterion, device)\n",
        "\n",
        "        # Print training progress\n",
        "        print(f\"Epoch {epoch+1}/{num_epochs}\")\n",
        "        print(f\"Training loss: {train_loss:.4f}, Accuracy: {train_accuracy:.2f}%\")\n",
        "        print(f\"Validation loss: {val_loss:.4f}, Accuracy: {val_accuracy:.2f}%\\n\")\n",
        "\n",
        "        # Adjust the learning rate based on the validation loss\n",
        "        scheduler.step(val_loss)\n",
        "\n",
        "        # Here's where you would print out the learning rates\n",
        "        # for i, param_group in enumerate(optimizer.param_groups):\n",
        "        #     print(f\"Learning rate for parameter group {i}: {param_group['lr']}\")\n",
        "\n",
        "        # Gradual unfreezing: optionally unfreeze layers if we are at the right epoch\n",
        "\n",
        "        if epoch == (num_epochs-5):\n",
        "            # Unfreeze all the layers\n",
        "            while(len(unfreeze_layers)):\n",
        "              layer_to_unfreeze = unfreeze_layers.pop()\n",
        "              for param in layer_to_unfreeze.parameters():\n",
        "                  param.requires_grad = True\n",
        "              # Update the optimizer for the newly unfrozen parameters\n",
        "              for param_group in optimizer.param_groups:\n",
        "                param_group['lr'] = 0.0001\n",
        "\n",
        "            unfreeze_layers = []\n",
        "\n",
        "        elif unfreeze_layers and epoch >= 4:\n",
        "            if model == resnet50v2 and ((epoch+1) % int((num_epochs+1)/5))!=0 :\n",
        "              continue\n",
        "            else:\n",
        "              c = 0\n",
        "              layer_to_unfreeze = None\n",
        "              while(c==0):\n",
        "                layer_to_unfreeze = unfreeze_layers.pop()\n",
        "                for param in layer_to_unfreeze.parameters():\n",
        "                    param.requires_grad = True\n",
        "                    c = 1\n",
        "\n",
        "              # Update the optimizer for the newly unfrozen parameters\n",
        "              optimizer.add_param_group({'params': layer_to_unfreeze.parameters(), 'lr': 0.0005})\n",
        "\n",
        "\n",
        "        # print_model_parameters(model)\n",
        "\n",
        "\n",
        "    return model\n"
      ],
      "metadata": {
        "id": "LO36dmCLer9f"
      },
      "execution_count": null,
      "outputs": []
    },
    {
      "cell_type": "code",
      "source": [
        "def evaluate(model, data_loader, criterion, device):\n",
        "    model.eval()  # Set the model to evaluation mode\n",
        "    running_loss = 0.0\n",
        "    correct = 0\n",
        "    total = 0\n",
        "\n",
        "    with torch.no_grad():  # Deactivate autograd to reduce memory usage\n",
        "        for inputs, targets in data_loader:\n",
        "            inputs, targets = inputs.to(device), targets.to(device)\n",
        "            outputs = model(inputs)\n",
        "            loss = criterion(outputs, targets)\n",
        "\n",
        "            running_loss += loss.item()\n",
        "            _, predicted = outputs.max(1)\n",
        "            total += targets.size(0)\n",
        "            correct += predicted.eq(targets).sum().item()\n",
        "\n",
        "    epoch_loss = running_loss / len(data_loader)\n",
        "    epoch_accuracy = 100. * correct / total\n",
        "    return epoch_loss, epoch_accuracy\n"
      ],
      "metadata": {
        "id": "vBR-fEDveuSx"
      },
      "execution_count": null,
      "outputs": []
    },
    {
      "cell_type": "markdown",
      "source": [
        "### Train VGG19"
      ],
      "metadata": {
        "id": "g12PCp_ENSAG"
      }
    },
    {
      "cell_type": "code",
      "source": [
        "import time\n",
        "start = time.time()  # Start the timer\n",
        "print(f\"Training started at {time.strftime('%X')}\")\n",
        "# Call the training function\n",
        "\n",
        "# Initialize the model, criterion, optimizer, and data loaders\n",
        "model = vgg19.to(device)\n",
        "criterion = nn.CrossEntropyLoss()\n",
        "\n",
        "# Define the number of epochs\n",
        "num_epochs = 25\n",
        "\n",
        "# Call the training function\n",
        "trained_model = train_model(\n",
        "    model=model,\n",
        "    train_loader=trainloader_vgg19_resnet50v2,  # Replace with your actual train data loader\n",
        "    test_loader=testloader_vgg19_resnet50v2,    # Replace with your actual test data loader\n",
        "    criterion=criterion,\n",
        "    num_epochs=num_epochs,\n",
        "    unfreeze_layers=[],  # This should be a list of layers you wish to unfreeze\n",
        "    device=device\n",
        ")\n",
        "\n",
        "print(\"Training complete.\")\n",
        "\n",
        "print(f\"Training endted at {time.strftime('%X')}\")\n",
        "print(f\"Training took {time.time() - start} seconds\")"
      ],
      "metadata": {
        "colab": {
          "base_uri": "https://localhost:8080/"
        },
        "outputId": "feb6005e-4f5d-42df-8eb8-f27d827420a9",
        "id": "OuSvsaADfBQ2"
      },
      "execution_count": null,
      "outputs": [
        {
          "output_type": "stream",
          "name": "stdout",
          "text": [
            "Training started at 20:53:43\n",
            "Epoch 1/25\n",
            "Training loss: 0.7130, Accuracy: 75.41%\n",
            "Validation loss: 0.4872, Accuracy: 83.08%\n",
            "\n",
            "Epoch 2/25\n",
            "Training loss: 0.4997, Accuracy: 82.41%\n",
            "Validation loss: 0.4352, Accuracy: 85.03%\n",
            "\n",
            "Epoch 3/25\n",
            "Training loss: 0.4460, Accuracy: 84.57%\n",
            "Validation loss: 0.4081, Accuracy: 85.70%\n",
            "\n",
            "Epoch 4/25\n",
            "Training loss: 0.4096, Accuracy: 85.72%\n",
            "Validation loss: 0.3918, Accuracy: 86.34%\n",
            "\n",
            "Epoch 5/25\n",
            "Training loss: 0.3842, Accuracy: 86.41%\n",
            "Validation loss: 0.3795, Accuracy: 86.61%\n",
            "\n",
            "Epoch 6/25\n",
            "Training loss: 0.3579, Accuracy: 87.50%\n",
            "Validation loss: 0.3633, Accuracy: 87.40%\n",
            "\n",
            "Epoch 7/25\n",
            "Training loss: 0.3316, Accuracy: 88.30%\n",
            "Validation loss: 0.3395, Accuracy: 88.03%\n",
            "\n",
            "Epoch 8/25\n",
            "Training loss: 0.2952, Accuracy: 89.75%\n",
            "Validation loss: 0.3123, Accuracy: 89.31%\n",
            "\n",
            "Epoch 9/25\n",
            "Training loss: 0.2620, Accuracy: 90.77%\n",
            "Validation loss: 0.2945, Accuracy: 89.62%\n",
            "\n",
            "Epoch 10/25\n",
            "Training loss: 0.2273, Accuracy: 92.02%\n",
            "Validation loss: 0.2746, Accuracy: 90.44%\n",
            "\n",
            "Epoch 11/25\n",
            "Training loss: 0.1975, Accuracy: 93.03%\n",
            "Validation loss: 0.2649, Accuracy: 90.74%\n",
            "\n",
            "Epoch 12/25\n",
            "Training loss: 0.1718, Accuracy: 94.12%\n",
            "Validation loss: 0.2433, Accuracy: 91.50%\n",
            "\n",
            "Epoch 13/25\n",
            "Training loss: 0.1498, Accuracy: 94.74%\n",
            "Validation loss: 0.2292, Accuracy: 92.18%\n",
            "\n",
            "Epoch 14/25\n",
            "Training loss: 0.1274, Accuracy: 95.53%\n",
            "Validation loss: 0.2367, Accuracy: 92.08%\n",
            "\n",
            "Epoch 15/25\n",
            "Training loss: 0.1080, Accuracy: 96.14%\n",
            "Validation loss: 0.2378, Accuracy: 92.32%\n",
            "\n",
            "Epoch 16/25\n",
            "Training loss: 0.0951, Accuracy: 96.63%\n",
            "Validation loss: 0.2243, Accuracy: 92.78%\n",
            "\n",
            "Epoch 17/25\n",
            "Training loss: 0.0807, Accuracy: 97.21%\n",
            "Validation loss: 0.2316, Accuracy: 92.96%\n",
            "\n",
            "Epoch 18/25\n",
            "Training loss: 0.0704, Accuracy: 97.57%\n",
            "Validation loss: 0.2371, Accuracy: 93.05%\n",
            "\n",
            "Epoch 19/25\n",
            "Training loss: 0.0635, Accuracy: 97.69%\n",
            "Validation loss: 0.2360, Accuracy: 93.08%\n",
            "\n",
            "Epoch 20/25\n",
            "Training loss: 0.0558, Accuracy: 98.04%\n",
            "Validation loss: 0.2255, Accuracy: 93.21%\n",
            "\n",
            "Epoch 21/25\n",
            "Training loss: 0.0481, Accuracy: 98.31%\n",
            "Validation loss: 0.2508, Accuracy: 93.31%\n",
            "\n"
          ]
        }
      ]
    },
    {
      "cell_type": "code",
      "source": [
        "# Save the trained model\n",
        "import time\n",
        "torch.save(trained_model.state_dict(), 'vgg19_trained_2.pth')"
      ],
      "metadata": {
        "id": "ZWPTvPL8RTuh"
      },
      "execution_count": null,
      "outputs": []
    },
    {
      "cell_type": "code",
      "source": [
        "import matplotlib.pyplot as plt\n",
        "\n",
        "# Training and validation losses and accuracies provided by the user\n",
        "epochs = list(range(1, 22))\n",
        "training_loss = [\n",
        "    0.7130, 0.4997, 0.4460, 0.4096, 0.3842, 0.3579, 0.3316, 0.2952, 0.2620,\n",
        "    0.2273, 0.1975, 0.1718, 0.1498, 0.1274, 0.1080, 0.0951, 0.0807, 0.0704,\n",
        "    0.0635, 0.0558, 0.0481\n",
        "]\n",
        "validation_loss= [\n",
        "    0.4872, 0.4352, 0.4081, 0.3918, 0.3795, 0.3633, 0.3395, 0.3123, 0.2945,\n",
        "    0.2746, 0.2649, 0.2433, 0.2292, 0.2367, 0.2378, 0.2243, 0.2316, 0.2371,\n",
        "    0.2360, 0.2255, 0.2508\n",
        "]\n",
        "training_accuracy = [\n",
        "    75.41, 82.41, 84.57, 85.72, 86.41, 87.50, 88.30, 89.75, 90.77,\n",
        "    92.02, 93.03, 94.12, 94.74, 95.53, 96.14, 96.63, 97.21, 97.57,\n",
        "    97.69, 98.04, 98.31\n",
        "]\n",
        "validation_accuracy= [\n",
        "    83.08, 85.03, 85.70, 86.34, 86.61, 87.40, 88.03, 89.31, 89.62,\n",
        "    90.44, 90.74, 91.50, 92.18, 92.08, 92.32, 92.78, 92.96, 93.05,\n",
        "    93.08, 93.21, 93.31\n",
        "]\n",
        "\n",
        "# Plot training and validation loss\n",
        "plt.figure(figsize=(14, 7))\n",
        "plt.subplot(1, 2, 1)\n",
        "plt.plot(epochs, training_loss, label='Training Loss')\n",
        "plt.plot(epochs, validation_loss, label='Validation Loss')\n",
        "plt.title('Training and Validation Loss')\n",
        "plt.xlabel('Epochs')\n",
        "plt.ylabel('Loss')\n",
        "plt.legend()\n",
        "\n",
        "# Plot training and validation accuracy\n",
        "plt.subplot(1, 2, 2)\n",
        "plt.plot(epochs, training_accuracy, label='Training Accuracy')\n",
        "plt.plot(epochs, validation_accuracy, label='Validation Accuracy')\n",
        "plt.title('Training and Validation Accuracy')\n",
        "plt.xlabel('Epochs')\n",
        "plt.ylabel('Accuracy (%)')\n",
        "plt.legend()\n",
        "\n",
        "plt.tight_layout()\n",
        "plt.show()"
      ],
      "metadata": {
        "colab": {
          "base_uri": "https://localhost:8080/",
          "height": 553
        },
        "id": "54XN0WZzm2sC",
        "outputId": "55a73d98-72a6-4a0b-e638-36fed9f08f35"
      },
      "execution_count": null,
      "outputs": [
        {
          "output_type": "display_data",
          "data": {
            "text/plain": [
              "<Figure size 1400x700 with 2 Axes>"
            ],
            "image/png": "[encoded data removed]"
          },
          "metadata": {}
        }
      ]
    },
    {
      "cell_type": "markdown",
      "source": [
        "###Train Resnet50V2"
      ],
      "metadata": {
        "id": "q_-PW1IKNXbm"
      }
    },
    {
      "cell_type": "code",
      "source": [
        "import time\n",
        "start = time.time()  # Start the timer\n",
        "print(f\"Training started at {time.strftime('%X')}\")\n",
        "# Call the training function\n",
        "\n",
        "# Initialize the model, criterion, optimizer, and data loaders\n",
        "model = resnet50v2.to(device)\n",
        "criterion = nn.CrossEntropyLoss()\n",
        "\n",
        "# Define the number of epochs\n",
        "num_epochs = 25\n",
        "\n",
        "# Call the training function\n",
        "trained_model = train_model(\n",
        "    model=model,\n",
        "    train_loader=trainloader_vgg19_resnet50v2,  # Replace with your actual train data loader\n",
        "    test_loader=testloader_vgg19_resnet50v2,    # Replace with your actual test data loader\n",
        "    criterion=criterion,\n",
        "    num_epochs=num_epochs,\n",
        "    unfreeze_layers=[],  # This should be a list of layers you wish to unfreeze\n",
        "    device=device\n",
        ")\n",
        "\n",
        "print(\"Training complete.\")\n",
        "\n",
        "print(f\"Training endted at {time.strftime('%X')}\")\n",
        "print(f\"Training took {time.time() - start} seconds\")"
      ],
      "metadata": {
        "id": "niD5imRD5MnG",
        "colab": {
          "base_uri": "https://localhost:8080/"
        },
        "outputId": "ed03633f-d683-4073-bdbf-215168d21030"
      },
      "execution_count": null,
      "outputs": [
        {
          "output_type": "stream",
          "name": "stdout",
          "text": [
            "Training started at 22:11:50\n",
            "Epoch 1/25\n",
            "Training loss: 1.1711, Accuracy: 68.18%\n",
            "Validation loss: 0.8154, Accuracy: 76.30%\n",
            "\n",
            "Epoch 2/25\n",
            "Training loss: 0.7505, Accuracy: 76.99%\n",
            "Validation loss: 0.7044, Accuracy: 77.49%\n",
            "\n",
            "Epoch 3/25\n",
            "Training loss: 0.6744, Accuracy: 78.35%\n",
            "Validation loss: 0.6493, Accuracy: 78.49%\n",
            "\n",
            "Epoch 4/25\n",
            "Training loss: 0.6387, Accuracy: 79.20%\n",
            "Validation loss: 0.6229, Accuracy: 79.38%\n",
            "\n",
            "Epoch 5/25\n",
            "Training loss: 0.6121, Accuracy: 79.72%\n",
            "Validation loss: 0.6053, Accuracy: 79.48%\n",
            "\n",
            "Epoch 6/25\n",
            "Training loss: 0.4721, Accuracy: 83.81%\n",
            "Validation loss: 0.4056, Accuracy: 85.96%\n",
            "\n",
            "Epoch 7/25\n",
            "Training loss: 0.3383, Accuracy: 88.40%\n",
            "Validation loss: 0.3481, Accuracy: 88.03%\n",
            "\n",
            "Epoch 8/25\n",
            "Training loss: 0.2814, Accuracy: 90.27%\n",
            "Validation loss: 0.3274, Accuracy: 88.46%\n",
            "\n",
            "Epoch 9/25\n",
            "Training loss: 0.2380, Accuracy: 91.87%\n",
            "Validation loss: 0.3089, Accuracy: 89.12%\n",
            "\n",
            "Epoch 10/25\n",
            "Training loss: 0.2069, Accuracy: 93.06%\n",
            "Validation loss: 0.2987, Accuracy: 89.64%\n",
            "\n",
            "Epoch 11/25\n",
            "Training loss: 0.1599, Accuracy: 94.58%\n",
            "Validation loss: 0.2277, Accuracy: 92.16%\n",
            "\n",
            "Epoch 12/25\n",
            "Training loss: 0.1105, Accuracy: 96.58%\n",
            "Validation loss: 0.2150, Accuracy: 92.78%\n",
            "\n",
            "Epoch 13/25\n",
            "Training loss: 0.0781, Accuracy: 97.71%\n",
            "Validation loss: 0.2085, Accuracy: 93.03%\n",
            "\n",
            "Epoch 14/25\n",
            "Training loss: 0.0598, Accuracy: 98.44%\n",
            "Validation loss: 0.2093, Accuracy: 93.21%\n",
            "\n",
            "Epoch 15/25\n",
            "Training loss: 0.0448, Accuracy: 98.91%\n",
            "Validation loss: 0.2014, Accuracy: 93.47%\n",
            "\n",
            "Epoch 16/25\n",
            "Training loss: 0.0341, Accuracy: 99.30%\n",
            "Validation loss: 0.1993, Accuracy: 93.58%\n",
            "\n",
            "Epoch 17/25\n",
            "Training loss: 0.0269, Accuracy: 99.46%\n",
            "Validation loss: 0.1981, Accuracy: 93.72%\n",
            "\n",
            "Epoch 18/25\n",
            "Training loss: 0.0189, Accuracy: 99.70%\n",
            "Validation loss: 0.2089, Accuracy: 93.92%\n",
            "\n",
            "Epoch 19/25\n",
            "Training loss: 0.0152, Accuracy: 99.78%\n",
            "Validation loss: 0.2016, Accuracy: 93.79%\n",
            "\n",
            "Epoch 20/25\n",
            "Training loss: 0.0129, Accuracy: 99.84%\n",
            "Validation loss: 0.2133, Accuracy: 93.77%\n",
            "\n",
            "Epoch 21/25\n",
            "Training loss: 0.0105, Accuracy: 99.89%\n",
            "Validation loss: 0.2049, Accuracy: 93.92%\n",
            "\n",
            "Epoch 22/25\n",
            "Training loss: 0.0082, Accuracy: 99.94%\n",
            "Validation loss: 0.2105, Accuracy: 93.95%\n",
            "\n",
            "Epoch 23/25\n",
            "Training loss: 0.0078, Accuracy: 99.95%\n",
            "Validation loss: 0.2045, Accuracy: 93.88%\n",
            "\n",
            "Epoch 24/25\n",
            "Training loss: 0.0075, Accuracy: 99.96%\n",
            "Validation loss: 0.2045, Accuracy: 93.92%\n",
            "\n",
            "Epoch 25/25\n",
            "Training loss: 0.0074, Accuracy: 99.95%\n",
            "Validation loss: 0.2083, Accuracy: 93.93%\n",
            "\n",
            "Training complete.\n",
            "Training endted at 01:11:18\n",
            "Training took 10768.673486471176 seconds\n"
          ]
        }
      ]
    },
    {
      "cell_type": "code",
      "source": [
        "# Save the trained model\n",
        "torch.save(trained_model.state_dict(), '/content/drive/MyDrive/Colab Notebooks/resnet50v2.pth')"
      ],
      "metadata": {
        "id": "5KHYeI03XH7G"
      },
      "execution_count": null,
      "outputs": []
    },
    {
      "cell_type": "code",
      "source": [
        "import matplotlib.pyplot as plt\n",
        "\n",
        "# Given data for plotting\n",
        "training_loss = [1.1711, 0.7505, 0.6744, 0.6387, 0.6121, 0.4721, 0.3383, 0.2814, 0.2380,\n",
        "                0.2069, 0.1599, 0.1105, 0.0781, 0.0598, 0.0448, 0.0341, 0.0269, 0.0189,\n",
        "                0.0152, 0.0129, 0.0105, 0.0082, 0.0078, 0.0075, 0.0074]\n",
        "validation_loss = [0.8154, 0.7044, 0.6493, 0.6229, 0.6053, 0.4056, 0.3481, 0.3274, 0.3089,\n",
        "              0.2987, 0.2277, 0.2150, 0.2085, 0.2093, 0.2014, 0.1993, 0.1981, 0.2089,\n",
        "              0.2016, 0.2133, 0.2049, 0.2105, 0.2045, 0.2045, 0.2083]\n",
        "training_accuracy = [68.18, 76.99, 78.35, 79.20, 79.72, 83.81, 88.40, 90.27, 91.87,\n",
        "                    93.06, 94.58, 96.58, 97.71, 98.44, 98.91, 99.30, 99.46, 99.70,\n",
        "                    99.78, 99.84, 99.89, 99.94, 99.95, 99.96, 99.95]\n",
        "validation_accuracy = [76.30, 77.49, 78.49, 79.38, 79.48, 85.96, 88.03, 88.46, 89.12,\n",
        "                  89.64, 92.16, 92.78, 93.03, 93.21, 93.47, 93.58, 93.72, 93.92,\n",
        "                  93.79, 93.77, 93.92, 93.95, 93.88, 93.92, 93.93]\n",
        "epochs = list(range(1, 26))\n",
        "\n",
        "# Plot training and validation loss\n",
        "plt.figure(figsize=(14, 7))\n",
        "plt.subplot(1, 2, 1)\n",
        "plt.plot(epochs, training_loss, label='Training Loss')\n",
        "plt.plot(epochs, validation_loss, label='Validation Loss')\n",
        "plt.title('Training and Validation Loss')\n",
        "plt.xlabel('Epochs')\n",
        "plt.ylabel('Loss')\n",
        "plt.legend()\n",
        "\n",
        "# Plot training and validation accuracy\n",
        "plt.subplot(1, 2, 2)\n",
        "plt.plot(epochs, training_accuracy, label='Training Accuracy')\n",
        "plt.plot(epochs, validation_accuracy, label='Validation Accuracy')\n",
        "plt.title('Training and Validation Accuracy')\n",
        "plt.xlabel('Epochs')\n",
        "plt.ylabel('Accuracy (%)')\n",
        "plt.legend()\n",
        "\n",
        "plt.tight_layout()\n",
        "plt.show()\n",
        "\n"
      ],
      "metadata": {
        "colab": {
          "base_uri": "https://localhost:8080/",
          "height": 553
        },
        "id": "d8RqQBO1iAYd",
        "outputId": "b5780f52-0934-49a9-d0f7-43a262b8430b"
      },
      "execution_count": null,
      "outputs": [
        {
          "output_type": "display_data",
          "data": {
            "text/plain": [
              "<Figure size 1400x700 with 2 Axes>"
            ],
            "image/png": "[encoded data removed]"
          },
          "metadata": {}
        }
      ]
    },
    {
      "cell_type": "markdown",
      "source": [
        "### Train inceptionv3"
      ],
      "metadata": {
        "id": "uE1onJ-7N-qz"
      }
    },
    {
      "cell_type": "code",
      "source": [
        "import time\n",
        "start = time.time()  # Start the timer\n",
        "print(f\"Training started at {time.strftime('%X')}\")\n",
        "# Call the training function\n",
        "\n",
        "# Initialize the model, criterion, optimizer, and data loaders\n",
        "model = inceptionv3.to(device)\n",
        "criterion = nn.CrossEntropyLoss()\n",
        "\n",
        "# Define the number of epochs\n",
        "num_epochs = 25\n",
        "\n",
        "# Call the training function\n",
        "trained_model = train_model(\n",
        "    model=model,\n",
        "    train_loader=trainloader_inceptionv3,  # Replace with your actual train data loader\n",
        "    test_loader=testloader_inceptionv3,    # Replace with your actual test data loader\n",
        "    criterion=criterion,\n",
        "    num_epochs=num_epochs,\n",
        "    unfreeze_layers=[],  # This should be a list of layers you wish to unfreeze\n",
        "    device=device\n",
        ")\n",
        "\n",
        "print(\"Training complete.\")\n",
        "\n",
        "print(f\"Training endted at {time.strftime('%X')}\")\n",
        "print(f\"Training took {time.time() - start} seconds\")"
      ],
      "metadata": {
        "id": "BNmK7GiwOLPI",
        "colab": {
          "base_uri": "https://localhost:8080/"
        },
        "outputId": "c309bd96-2e6d-4749-d266-5ba7e68a0eb0"
      },
      "execution_count": null,
      "outputs": [
        {
          "output_type": "stream",
          "name": "stdout",
          "text": [
            "Training started at 22:04:28\n",
            "Epoch 1/25\n",
            "Training loss: 1.6068, Accuracy: 54.47%\n",
            "Validation loss: 1.1738, Accuracy: 69.62%\n",
            "\n",
            "Epoch 2/25\n",
            "Training loss: 1.1158, Accuracy: 67.05%\n",
            "Validation loss: 0.9815, Accuracy: 71.55%\n",
            "\n",
            "Epoch 3/25\n",
            "Training loss: 0.9963, Accuracy: 68.69%\n",
            "Validation loss: 0.8996, Accuracy: 72.26%\n",
            "\n",
            "Epoch 4/25\n",
            "Training loss: 0.9404, Accuracy: 69.85%\n",
            "Validation loss: 0.8507, Accuracy: 73.44%\n",
            "\n",
            "Epoch 5/25\n",
            "Training loss: 0.9066, Accuracy: 70.37%\n",
            "Validation loss: 0.8222, Accuracy: 73.46%\n",
            "\n",
            "Epoch 6/25\n",
            "Training loss: 0.7952, Accuracy: 73.11%\n",
            "Validation loss: 0.6725, Accuracy: 77.22%\n",
            "\n",
            "Epoch 7/25\n",
            "Training loss: 0.6465, Accuracy: 77.80%\n",
            "Validation loss: 0.5509, Accuracy: 80.81%\n",
            "\n",
            "Epoch 8/25\n",
            "Training loss: 0.5256, Accuracy: 81.99%\n",
            "Validation loss: 0.4607, Accuracy: 83.64%\n",
            "\n",
            "Epoch 9/25\n",
            "Training loss: 0.4280, Accuracy: 85.35%\n",
            "Validation loss: 0.3876, Accuracy: 86.12%\n",
            "\n",
            "Epoch 10/25\n",
            "Training loss: 0.3338, Accuracy: 88.43%\n",
            "Validation loss: 0.3168, Accuracy: 88.89%\n",
            "\n",
            "Epoch 11/25\n",
            "Training loss: 0.2508, Accuracy: 91.44%\n",
            "Validation loss: 0.2676, Accuracy: 90.45%\n",
            "\n",
            "Epoch 12/25\n",
            "Training loss: 0.1915, Accuracy: 93.56%\n",
            "Validation loss: 0.2377, Accuracy: 91.69%\n",
            "\n",
            "Epoch 13/25\n",
            "Training loss: 0.1483, Accuracy: 95.11%\n",
            "Validation loss: 0.2188, Accuracy: 92.56%\n",
            "\n",
            "Epoch 14/25\n",
            "Training loss: 0.1150, Accuracy: 96.24%\n",
            "Validation loss: 0.2107, Accuracy: 93.03%\n",
            "\n",
            "Epoch 15/25\n",
            "Training loss: 0.0908, Accuracy: 97.01%\n",
            "Validation loss: 0.1981, Accuracy: 93.63%\n",
            "\n",
            "Epoch 16/25\n",
            "Training loss: 0.0686, Accuracy: 97.87%\n",
            "Validation loss: 0.2016, Accuracy: 93.38%\n",
            "\n",
            "Epoch 17/25\n",
            "Training loss: 0.0556, Accuracy: 98.29%\n",
            "Validation loss: 0.1980, Accuracy: 93.76%\n",
            "\n",
            "Epoch 18/25\n",
            "Training loss: 0.0409, Accuracy: 98.87%\n",
            "Validation loss: 0.1958, Accuracy: 94.10%\n",
            "\n",
            "Epoch 19/25\n",
            "Training loss: 0.0361, Accuracy: 98.99%\n",
            "Validation loss: 0.1945, Accuracy: 94.10%\n",
            "\n",
            "Epoch 20/25\n",
            "Training loss: 0.0530, Accuracy: 98.30%\n",
            "Validation loss: 0.1970, Accuracy: 94.13%\n",
            "\n",
            "Epoch 21/25\n",
            "Training loss: 0.0910, Accuracy: 96.87%\n",
            "Validation loss: 0.1635, Accuracy: 94.70%\n",
            "\n",
            "Epoch 22/25\n",
            "Training loss: 0.0564, Accuracy: 98.11%\n",
            "Validation loss: 0.1672, Accuracy: 94.75%\n",
            "\n",
            "Epoch 23/25\n",
            "Training loss: 0.0406, Accuracy: 98.66%\n",
            "Validation loss: 0.1522, Accuracy: 95.37%\n",
            "\n",
            "Epoch 24/25\n",
            "Training loss: 0.0292, Accuracy: 99.08%\n",
            "Validation loss: 0.1530, Accuracy: 95.25%\n",
            "\n",
            "Epoch 25/25\n",
            "Training loss: 0.0259, Accuracy: 99.22%\n",
            "Validation loss: 0.1610, Accuracy: 95.36%\n",
            "\n",
            "Training complete.\n",
            "Training endted at 23:56:15\n",
            "Training took 6706.780396461487 seconds\n"
          ]
        }
      ]
    },
    {
      "cell_type": "code",
      "source": [
        "# Save the trained model\n",
        "torch.save(trained_model.state_dict(), '/content/drive/MyDrive/results/inceptionv3.pth')"
      ],
      "metadata": {
        "id": "Q80Oos2qORFX"
      },
      "execution_count": null,
      "outputs": []
    },
    {
      "cell_type": "code",
      "source": [
        "import matplotlib.pyplot as plt\n",
        "\n",
        "# Training and validation loss and accuracy data\n",
        "training_loss = [\n",
        "    1.6068, 1.1158, 0.9963, 0.9404, 0.9066, 0.7952, 0.6465, 0.5256, 0.4280,\n",
        "    0.3338, 0.2508, 0.1915, 0.1483, 0.1150, 0.0908, 0.0686, 0.0556, 0.0409,\n",
        "    0.0361, 0.0530, 0.0910, 0.0564, 0.0406, 0.0292, 0.0259\n",
        "]\n",
        "\n",
        "validation_loss = [\n",
        "    1.1738, 0.9815, 0.8996, 0.8507, 0.8222, 0.6725, 0.5509, 0.4607, 0.3876,\n",
        "    0.3168, 0.2676, 0.2377, 0.2188, 0.2107, 0.1981, 0.2016, 0.1980, 0.1958,\n",
        "    0.1945, 0.1970, 0.1635, 0.1672, 0.1522, 0.1530, 0.1610\n",
        "]\n",
        "\n",
        "training_accuracy = [\n",
        "    54.47, 67.05, 68.69, 69.85, 70.37, 73.11, 77.80, 81.99, 85.35,\n",
        "    88.43, 91.44, 93.56, 95.11, 96.24, 97.01, 97.87, 98.29, 98.87,\n",
        "    98.99, 98.30, 96.87, 98.11, 98.66, 99.08, 99.22\n",
        "]\n",
        "\n",
        "validation_accuracy = [\n",
        "    69.62, 71.55, 72.26, 73.44, 73.46, 77.22, 80.81, 83.64, 86.12,\n",
        "    88.89, 90.45, 91.69, 92.56, 93.03, 93.63, 93.38, 93.76, 94.10,\n",
        "    94.10, 94.13, 94.70, 94.75, 95.37, 95.25, 95.36\n",
        "]\n",
        "\n",
        "epochs = range(1, 26)  # 25 epochs\n",
        "\n",
        "# Plot training and validation loss\n",
        "plt.figure(figsize=(14, 7))\n",
        "plt.subplot(1, 2, 1)\n",
        "plt.plot(epochs, training_loss, label='Training Loss')\n",
        "plt.plot(epochs, validation_loss, label='Validation Loss')\n",
        "plt.title('Training and Validation Loss')\n",
        "plt.xlabel('Epochs')\n",
        "plt.ylabel('Loss')\n",
        "plt.legend()\n",
        "\n",
        "# Plot training and validation accuracy\n",
        "plt.subplot(1, 2, 2)\n",
        "plt.plot(epochs, training_accuracy, label='Training Accuracy')\n",
        "plt.plot(epochs, validation_accuracy, label='Validation Accuracy')\n",
        "plt.title('Training and Validation Accuracy')\n",
        "plt.xlabel('Epochs')\n",
        "plt.ylabel('Accuracy (%)')\n",
        "plt.legend()\n",
        "\n",
        "plt.tight_layout()\n",
        "plt.show()\n"
      ],
      "metadata": {
        "colab": {
          "base_uri": "https://localhost:8080/",
          "height": 727
        },
        "id": "VGlPXU8VG9jy",
        "outputId": "d8d9129f-7056-44cb-fa44-d4a99bac01f5"
      },
      "execution_count": null,
      "outputs": [
        {
          "output_type": "display_data",
          "data": {
            "text/plain": [
              "<Figure size 1400x700 with 2 Axes>"
            ],
            "image/png": "[encoded data removed]"
          },
          "metadata": {}
        }
      ]
    },
    {
      "cell_type": "markdown",
      "source": [
        "#Experiment with fine tuned pre-trained models\n",
        "## **pre requisite:** Load CIFAR10 dataset first\n",
        "\n",
        "\n",
        "test classification performance with all these pre-trained models on the\n",
        "CIFAR10 dataset and report their accuracy."
      ],
      "metadata": {
        "id": "nkqGAz6dO1rh"
      }
    },
    {
      "cell_type": "markdown",
      "source": [
        "##Download my Fine Tuned Models"
      ],
      "metadata": {
        "id": "-dwvpO5EhcAW"
      }
    },
    {
      "cell_type": "code",
      "source": [
        "# Convert the shareable link to a direct download link\n",
        "vgg_link = \"https://drive.google.com/file/d/1K2hMEiIS2XLXUt0nS62G-tryLgOSvXGz/view?usp=sharing\" # Replace with your actual link\n",
        "resnet_link = \"https://drive.google.com/file/d/1KGthciEXc3HUC3bNRjd78dC_P6tVnyhk/view?usp=sharing\"\n",
        "inception_link = \"https://drive.google.com/file/d/1-74fZEF0KdnniXAcMc3mXxsUsKgPMyvd/view?usp=sharing\""
      ],
      "metadata": {
        "id": "35wGguZefNtj"
      },
      "execution_count": null,
      "outputs": []
    },
    {
      "cell_type": "code",
      "execution_count": null,
      "metadata": {
        "id": "L5xcIQZXG6qv"
      },
      "outputs": [],
      "source": [
        "# Function to convert shareable link to direct download link\n",
        "def convert_to_direct_download(gdrive_link):\n",
        "    file_id = gdrive_link.split('/')[5]\n",
        "    direct_link = f\"https://drive.google.com/uc?export=download&id={file_id}\"\n",
        "    return direct_link"
      ]
    },
    {
      "cell_type": "code",
      "source": [
        "# Convert and download VGG\n",
        "direct_download_link_vgg = convert_to_direct_download(vgg_link)\n",
        "!gdown --id {direct_download_link_vgg.split('=')[-1]} -O 'vgg19.pth'"
      ],
      "metadata": {
        "id": "gvitTve7fYO0",
        "colab": {
          "base_uri": "https://localhost:8080/"
        },
        "outputId": "3a4b2a7a-bf81-4648-9504-d121df4ed8da"
      },
      "execution_count": null,
      "outputs": [
        {
          "output_type": "stream",
          "name": "stdout",
          "text": [
            "/usr/local/lib/python3.10/dist-packages/gdown/cli.py:121: FutureWarning: Option `--id` was deprecated in version 4.3.1 and will be removed in 5.0. You don't need to pass it anymore to use a file ID.\n",
            "  warnings.warn(\n",
            "Downloading...\n",
            "From: https://drive.google.com/uc?id=1K2hMEiIS2XLXUt0nS62G-tryLgOSvXGz\n",
            "To: /content/vgg19.pth\n",
            "100% 558M/558M [00:02<00:00, 252MB/s]\n"
          ]
        }
      ]
    },
    {
      "cell_type": "code",
      "source": [
        "# Convert and download ResNet\n",
        "direct_download_link_resnet = convert_to_direct_download(resnet_link)\n",
        "!gdown --id {direct_download_link_resnet.split('=')[-1]} -O 'resnet50v2.pth'"
      ],
      "metadata": {
        "id": "vDo8i8e8fDOQ",
        "colab": {
          "base_uri": "https://localhost:8080/"
        },
        "outputId": "6c650645-9444-4eda-fb5b-24277c24ea4d"
      },
      "execution_count": null,
      "outputs": [
        {
          "output_type": "stream",
          "name": "stdout",
          "text": [
            "/usr/local/lib/python3.10/dist-packages/gdown/cli.py:121: FutureWarning: Option `--id` was deprecated in version 4.3.1 and will be removed in 5.0. You don't need to pass it anymore to use a file ID.\n",
            "  warnings.warn(\n",
            "Downloading...\n",
            "From: https://drive.google.com/uc?id=1KGthciEXc3HUC3bNRjd78dC_P6tVnyhk\n",
            "To: /content/resnet50v2.pth\n",
            "100% 94.4M/94.4M [00:00<00:00, 293MB/s]\n"
          ]
        }
      ]
    },
    {
      "cell_type": "code",
      "source": [
        "# Convert and download Inception\n",
        "direct_download_link = convert_to_direct_download(inception_link)\n",
        "!gdown --id {direct_download_link.split('=')[-1]} -O 'inceptionv3.pth'"
      ],
      "metadata": {
        "id": "NU76jcIXfuHi",
        "colab": {
          "base_uri": "https://localhost:8080/"
        },
        "outputId": "63094a20-42ee-44a0-c0f7-c0ee342e590c"
      },
      "execution_count": null,
      "outputs": [
        {
          "output_type": "stream",
          "name": "stdout",
          "text": [
            "/usr/local/lib/python3.10/dist-packages/gdown/cli.py:121: FutureWarning: Option `--id` was deprecated in version 4.3.1 and will be removed in 5.0. You don't need to pass it anymore to use a file ID.\n",
            "  warnings.warn(\n",
            "Downloading...\n",
            "From: https://drive.google.com/uc?id=1-74fZEF0KdnniXAcMc3mXxsUsKgPMyvd\n",
            "To: /content/inceptionv4.pth\n",
            "100% 101M/101M [00:00<00:00, 180MB/s]\n"
          ]
        }
      ]
    },
    {
      "cell_type": "markdown",
      "source": [
        "## Define Models to Load saved weights"
      ],
      "metadata": {
        "id": "qWVAfTq_hmkn"
      }
    },
    {
      "cell_type": "code",
      "source": [
        "import torch\n",
        "import torchvision.transforms as transforms\n",
        "import torchvision.datasets as datasets\n",
        "from torch.utils.data import DataLoader\n",
        "import torch.nn as nn"
      ],
      "metadata": {
        "id": "8nP_NhlnWWWV"
      },
      "execution_count": null,
      "outputs": []
    },
    {
      "cell_type": "code",
      "source": [
        "from sklearn.metrics import f1_score\n",
        "\n",
        "def evaluate_with_f1(model, data_loader, criterion, device):\n",
        "    model.eval()  # Set the model to evaluation mode\n",
        "    running_loss = 0.0\n",
        "    total_preds = []\n",
        "    total_targets = []\n",
        "\n",
        "    with torch.no_grad():  # Deactivate autograd to reduce memory usage\n",
        "        for inputs, targets in data_loader:\n",
        "            # Transfer inputs and targets to the correct device\n",
        "            inputs, targets = inputs.to(device), targets.to(device)\n",
        "            outputs = model(inputs)\n",
        "            loss = criterion(outputs, targets)\n",
        "\n",
        "            running_loss += loss.item()\n",
        "            _, predicted = outputs.max(1)\n",
        "\n",
        "            # Append current predictions and current targets to list\n",
        "            total_preds.extend(predicted.view(-1).cpu().numpy())\n",
        "            total_targets.extend(targets.cpu().numpy())\n",
        "\n",
        "    # Calculate F1 score using true labels and predicted labels\n",
        "    f1 = f1_score(total_targets, total_preds, average='weighted')\n",
        "\n",
        "    epoch_loss = running_loss / len(data_loader)\n",
        "    epoch_accuracy = 100. * sum(p == t for p, t in zip(total_preds, total_targets)) / len(total_preds)\n",
        "\n",
        "    return epoch_loss, epoch_accuracy, f1"
      ],
      "metadata": {
        "id": "1Cquw-DsWRDE"
      },
      "execution_count": null,
      "outputs": []
    },
    {
      "cell_type": "code",
      "source": [
        "# Initialize models\n",
        "device = torch.device(\"cuda\" if torch.cuda.is_available() else \"cpu\")\n",
        "\n",
        "vgg19 = models.vgg19(pretrained=True).to(device)\n",
        "resnet50v2 = models.resnet50(pretrained=True).to(device)\n",
        "inceptionv3 = models.inception_v3(pretrained=True).to(device)\n",
        "\n",
        "# Modify the classifiers for CIFAR-10 (10 classes)\n",
        "vgg19.classifier[6] = nn.Linear(vgg19.classifier[6].in_features, 10).to(device)\n",
        "resnet50v2.fc = nn.Linear(resnet50v2.fc.in_features, 10).to(device)\n",
        "inceptionv3.fc = nn.Linear(inceptionv3.fc.in_features, 10).to(device)\n",
        "\n",
        "# Make sure to call model.eval() when evaluating\n",
        "vgg19.eval()\n",
        "resnet50v2.eval()\n",
        "inceptionv3.eval()\n",
        "\n",
        "criterion = nn.CrossEntropyLoss()"
      ],
      "metadata": {
        "id": "T5Fv4ckFijw5",
        "colab": {
          "base_uri": "https://localhost:8080/"
        },
        "outputId": "7b4c3fe7-4041-4f57-a9c4-7ef9517ac2ce"
      },
      "execution_count": null,
      "outputs": [
        {
          "output_type": "stream",
          "name": "stderr",
          "text": [
            "/usr/local/lib/python3.10/dist-packages/torchvision/models/_utils.py:208: UserWarning: The parameter 'pretrained' is deprecated since 0.13 and may be removed in the future, please use 'weights' instead.\n",
            "  warnings.warn(\n",
            "/usr/local/lib/python3.10/dist-packages/torchvision/models/_utils.py:223: UserWarning: Arguments other than a weight enum or `None` for 'weights' are deprecated since 0.13 and may be removed in the future. The current behavior is equivalent to passing `weights=VGG19_Weights.IMAGENET1K_V1`. You can also use `weights=VGG19_Weights.DEFAULT` to get the most up-to-date weights.\n",
            "  warnings.warn(msg)\n",
            "/usr/local/lib/python3.10/dist-packages/torchvision/models/_utils.py:223: UserWarning: Arguments other than a weight enum or `None` for 'weights' are deprecated since 0.13 and may be removed in the future. The current behavior is equivalent to passing `weights=ResNet50_Weights.IMAGENET1K_V1`. You can also use `weights=ResNet50_Weights.DEFAULT` to get the most up-to-date weights.\n",
            "  warnings.warn(msg)\n",
            "/usr/local/lib/python3.10/dist-packages/torchvision/models/_utils.py:223: UserWarning: Arguments other than a weight enum or `None` for 'weights' are deprecated since 0.13 and may be removed in the future. The current behavior is equivalent to passing `weights=Inception_V3_Weights.IMAGENET1K_V1`. You can also use `weights=Inception_V3_Weights.DEFAULT` to get the most up-to-date weights.\n",
            "  warnings.warn(msg)\n"
          ]
        }
      ]
    },
    {
      "cell_type": "markdown",
      "source": [
        "## Load Weight: Test accuracy & F1 Score"
      ],
      "metadata": {
        "id": "1xMxy61XiPAF"
      }
    },
    {
      "cell_type": "markdown",
      "source": [
        "vgg19"
      ],
      "metadata": {
        "id": "nLVwmXczjpQ8"
      }
    },
    {
      "cell_type": "code",
      "source": [
        "# state paths to your saved models\n",
        "vgg19_path = 'vgg19.pth'\n",
        "\n",
        "# Load saved weights with map_location to ensure weights are on the correct device\n",
        "vgg19.load_state_dict(torch.load(vgg19_path, map_location=device))\n",
        "\n",
        "start = time.time()\n",
        "# Evaluate fine-tuned VGG19\n",
        "vgg19_loss, vgg19_accuracy, f1 = evaluate_with_f1(vgg19, testloader_vgg19_resnet50v2 , criterion, device)\n",
        "time_elapsed = time.time() - start  # calculate the time elapsed\n",
        "\n",
        "print(f'Time taken to Test Accuracy: {time_elapsed:.2f}sec')\n",
        "print(f'VGG19 Test Accuracy: {vgg19_accuracy:.2f}%')\n",
        "print(f'F1 Score: {f1:.4f}')"
      ],
      "metadata": {
        "id": "rQl2psnyjgmb",
        "colab": {
          "base_uri": "https://localhost:8080/"
        },
        "outputId": "e5866fd5-1f64-4936-cdb5-d7a350c4a30a"
      },
      "execution_count": null,
      "outputs": [
        {
          "output_type": "stream",
          "name": "stdout",
          "text": [
            "Time taken to Test Accuracy: 29.89sec\n",
            "VGG19 Test Accuracy: 92.35%\n",
            "VGG19 F1 Score: 0.9234\n"
          ]
        }
      ]
    },
    {
      "cell_type": "markdown",
      "source": [
        "resnet50v2"
      ],
      "metadata": {
        "id": "CjsZzXHNjtWY"
      }
    },
    {
      "cell_type": "code",
      "source": [
        "# state paths to your saved models\n",
        "resnet50v2_path = 'resnet50v2.pth'\n",
        "\n",
        "# Load saved weights with map_location to ensure weights are on the correct device\n",
        "resnet50v2.load_state_dict(torch.load(resnet50v2_path, map_location=device))\n",
        "\n",
        "start = time.time()\n",
        "\n",
        "# Evaluate ResNet50V2\n",
        "resnet50v2_loss, resnet50v2_accuracy, f1 = evaluate_with_f1(resnet50v2, testloader_vgg19_resnet50v2, criterion, device)\n",
        "time_elapsed = time.time() - start  # calculate the time elapsed\n",
        "\n",
        "print(f'Time taken to Test Accuracy: {time_elapsed:.2f}sec')\n",
        "print(f'ResNet50V2 Test Accuracy: {resnet50v2_accuracy:.2f}%')\n",
        "print(f'F1 Score: {f1:.4f}')"
      ],
      "metadata": {
        "id": "ruXI9mLvjhV5",
        "colab": {
          "base_uri": "https://localhost:8080/"
        },
        "outputId": "6ae47a95-dfcd-4069-cc6c-ff21e34b6ab3"
      },
      "execution_count": null,
      "outputs": [
        {
          "output_type": "stream",
          "name": "stdout",
          "text": [
            "Time taken to Test Accuracy: 23.06sec\n",
            "ResNet50V2 Test Accuracy: 94.16%\n",
            "VGG19 F1 Score: 0.9415\n"
          ]
        }
      ]
    },
    {
      "cell_type": "markdown",
      "source": [
        "inceptionv3"
      ],
      "metadata": {
        "id": "n3HG4KG0jt7j"
      }
    },
    {
      "cell_type": "code",
      "source": [
        "# state paths to your saved models\n",
        "inceptionv3_path = 'inceptionv3.pth'\n",
        "\n",
        "# Load saved weights with map_location to ensure weights are on the correct device\n",
        "inceptionv3.load_state_dict(torch.load(inceptionv3_path, map_location=device))\n",
        "\n",
        "# Evaluate inceptionv3\n",
        "start = time.time()\n",
        "inceptionv3_loss, inceptionv3_accuracy, f1 = evaluate_with_f1(inceptionv3, testloader_inceptionv3, criterion, device)\n",
        "time_elapsed = time.time() - start  # calculate the time elapsed\n",
        "\n",
        "print(f'Time taken to Test Accuracy: {time_elapsed:.2f}sec')\n",
        "print(f'inceptionv3 Test Accuracy: {inceptionv3_accuracy:.2f}%')\n",
        "print(f'F1 Score: {f1:.4f}')"
      ],
      "metadata": {
        "id": "5B0ltyhJjiLt",
        "colab": {
          "base_uri": "https://localhost:8080/"
        },
        "outputId": "2316c9ab-1b63-43be-c567-667da47fb273"
      },
      "execution_count": null,
      "outputs": [
        {
          "output_type": "stream",
          "name": "stdout",
          "text": [
            "Time taken to Test Accuracy: 33.82sec\n",
            "InceptionV4 Test Accuracy: 95.34%\n",
            "VGG19 F1 Score: 0.9534\n"
          ]
        }
      ]
    },
    {
      "cell_type": "markdown",
      "source": [
        "Combined test"
      ],
      "metadata": {
        "id": "mYtFUrM1jue3"
      }
    },
    {
      "cell_type": "code",
      "source": [
        "# state paths to your saved models\n",
        "vgg19_path = 'vgg19.pth'\n",
        "resnet50v2_path = 'resnet50v2.pth'\n",
        "inceptionv3_path = 'inceptionv3.pth'\n",
        "\n",
        "# Load saved weights with map_location to ensure weights are on the correct device\n",
        "vgg19.load_state_dict(torch.load(vgg19_path, map_location=device))\n",
        "resnet50v2.load_state_dict(torch.load(resnet50v2_path, map_location=device))\n",
        "inceptionv3.load_state_dict(torch.load(inceptionv3_path, map_location=device))\n",
        "\n",
        "# Evaluate VGG19\n",
        "vgg19_loss, vgg19_accuracy = evaluate_with_f1(vgg19, testloader_vgg19_resnet50v2 , criterion, device)\n",
        "print(f'VGG19 Test Accuracy: {vgg19_accuracy:.2f}%')\n",
        "\n",
        "# Evaluate ResNet50V2\n",
        "resnet50v2_loss, resnet50v2_accuracy = evaluate(resnet50v2, testloader_vgg19_resnet50v2, criterion, device)\n",
        "print(f'ResNet50V2 Test Accuracy: {resnet50v2_accuracy:.2f}%')\n",
        "\n",
        "# Evaluate inceptionv3\n",
        "inceptionv3_loss, inceptionv3_accuracy = evaluate(inceptionv3, testloader_inceptionv3, criterion, device)\n",
        "print(f'inceptionv3 Test Accuracy: {inceptionv3_accuracy:.2f}%')\n"
      ],
      "metadata": {
        "id": "TOUsMj7RnN5y"
      },
      "execution_count": null,
      "outputs": []
    },
    {
      "cell_type": "markdown",
      "source": [
        "##Layers and Parameters"
      ],
      "metadata": {
        "id": "Lg0eBf80UzJh"
      }
    },
    {
      "cell_type": "code",
      "source": [
        "total_params = 0\n",
        "trainable_params = 0\n",
        "non_trainable_params = 0\n",
        "model = vgg19\n",
        "for param in model.parameters():\n",
        "    total_params += param.numel()\n",
        "    if param.requires_grad:\n",
        "        trainable_params += param.numel()\n",
        "    else:\n",
        "        non_trainable_params += param.numel()\n",
        "print(\"Vgg19 layers and parameters :------------------  \")\n",
        "print(f\"Total Parameters: {total_params}\")\n",
        "print(f\"Trainable Parameters: {trainable_params}\")\n",
        "print(f\"Non-trainable Parameters: {non_trainable_params}\")\n",
        "def count_layers(model, count_nested=True):\n",
        "    layer_count = 0\n",
        "    for child in model.children():\n",
        "        if count_nested and list(child.children()):  # If the child has children of its own\n",
        "            layer_count += count_layers(child)\n",
        "        else:\n",
        "            layer_count += 1\n",
        "    return layer_count\n",
        "\n",
        "number_of_layers = count_layers(model)\n",
        "print(f\"Number of layers: {number_of_layers}\")\n",
        "\n"
      ],
      "metadata": {
        "colab": {
          "base_uri": "https://localhost:8080/"
        },
        "outputId": "198a677a-52d0-4def-baf7-b1ec434721f9",
        "id": "Zk_KrVgoU4iZ"
      },
      "execution_count": null,
      "outputs": [
        {
          "output_type": "stream",
          "name": "stdout",
          "text": [
            "Vgg19 layers and parameters :------------------  \n",
            "Total Parameters: 139611210\n",
            "Trainable Parameters: 139611210\n",
            "Non-trainable Parameters: 0\n",
            "Number of layers: 45\n"
          ]
        }
      ]
    },
    {
      "cell_type": "code",
      "source": [
        "total_params = 0\n",
        "trainable_params = 0\n",
        "non_trainable_params = 0\n",
        "model = resnet50v2\n",
        "for param in model.parameters():\n",
        "    total_params += param.numel()\n",
        "    if param.requires_grad:\n",
        "        trainable_params += param.numel()\n",
        "    else:\n",
        "        non_trainable_params += param.numel()\n",
        "print(\"Resnet50v2 layers and parameters :------------------  \")\n",
        "print(f\"Total Parameters: {total_params}\")\n",
        "print(f\"Trainable Parameters: {trainable_params}\")\n",
        "print(f\"Non-trainable Parameters: {non_trainable_params}\")\n",
        "def count_layers(model, count_nested=True):\n",
        "    layer_count = 0\n",
        "    for child in model.children():\n",
        "        if count_nested and list(child.children()):  # If the child has children of its own\n",
        "            layer_count += count_layers(child)\n",
        "        else:\n",
        "            layer_count += 1\n",
        "    return layer_count\n",
        "\n",
        "number_of_layers = count_layers(model)\n",
        "print(f\"Number of layers: {number_of_layers}\")\n",
        "\n"
      ],
      "metadata": {
        "colab": {
          "base_uri": "https://localhost:8080/"
        },
        "id": "Vnpt18ncL3Bz",
        "outputId": "8ddcff4f-dac1-464c-c739-fc52e731f3d6"
      },
      "execution_count": null,
      "outputs": [
        {
          "output_type": "stream",
          "name": "stdout",
          "text": [
            "Resnet50v2 layers and parameters :------------------  \n",
            "Total Parameters: 23528522\n",
            "Trainable Parameters: 23528522\n",
            "Non-trainable Parameters: 0\n",
            "Number of layers: 126\n"
          ]
        }
      ]
    },
    {
      "cell_type": "code",
      "source": [
        "total_params = 0\n",
        "trainable_params = 0\n",
        "non_trainable_params = 0\n",
        "model = inceptionv3\n",
        "for param in model.parameters():\n",
        "    total_params += param.numel()\n",
        "    if param.requires_grad:\n",
        "        trainable_params += param.numel()\n",
        "    else:\n",
        "        non_trainable_params += param.numel()\n",
        "print(\"inceptionv3 layers and parameters :------------------  \")\n",
        "print(f\"Total Parameters: {total_params}\")\n",
        "print(f\"Trainable Parameters: {trainable_params}\")\n",
        "print(f\"Non-trainable Parameters: {non_trainable_params}\")\n",
        "def count_layers(model, count_nested=True):\n",
        "    layer_count = 0\n",
        "    for child in model.children():\n",
        "        if count_nested and list(child.children()):  # If the child has children of its own\n",
        "            layer_count += count_layers(child)\n",
        "        else:\n",
        "            layer_count += 1\n",
        "    return layer_count\n",
        "\n",
        "number_of_layers = count_layers(model)\n",
        "print(f\"Number of layers: {number_of_layers}\")"
      ],
      "metadata": {
        "colab": {
          "base_uri": "https://localhost:8080/"
        },
        "outputId": "94b3d75e-266b-499b-a8d4-a2c0b2ef4444",
        "id": "E5-WF342U_OY"
      },
      "execution_count": null,
      "outputs": [
        {
          "output_type": "stream",
          "name": "stdout",
          "text": [
            "Inceptionv4 layers and parameters :------------------  \n",
            "Total Parameters: 25132754\n",
            "Trainable Parameters: 25132754\n",
            "Non-trainable Parameters: 0\n",
            "Number of layers: 198\n"
          ]
        }
      ]
    }
  ]
}